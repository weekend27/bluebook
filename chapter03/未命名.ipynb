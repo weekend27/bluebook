{
 "cells": [
  {
   "cell_type": "code",
   "execution_count": 1,
   "metadata": {},
   "outputs": [],
   "source": [
    "import math\n",
    "from itertools import combinations"
   ]
  },
  {
   "cell_type": "code",
   "execution_count": 2,
   "metadata": {},
   "outputs": [],
   "source": [
    "# p = 1 曼哈顿距离\n",
    "# p = 2 欧氏距离\n",
    "# p = inf 闵式距离minkowski_distance\n",
    "\n",
    "def L(x, y, p=2):\n",
    "    # x1 = [1, 1], x2 = [3, 1], p = 2 => L = 2.0\n",
    "    if len(x) == len(y) and len(x) > 1:\n",
    "        sum = 0\n",
    "        for i in range(len(x)):\n",
    "            sum += math.pow(abs(x[i] - y[i]), p)\n",
    "        return math.pow(sum, 1/p)\n",
    "    else:\n",
    "        return 0"
   ]
  },
  {
   "cell_type": "code",
   "execution_count": 3,
   "metadata": {},
   "outputs": [
    {
     "data": {
      "text/plain": [
       "2.0"
      ]
     },
     "execution_count": 3,
     "metadata": {},
     "output_type": "execute_result"
    }
   ],
   "source": [
    "L([1, 1], [3, 1], 2)"
   ]
  },
  {
   "cell_type": "code",
   "execution_count": 4,
   "metadata": {},
   "outputs": [],
   "source": [
    "# 课本例3.1\n",
    "x1 = [1, 1]\n",
    "x2 = [5, 1]\n",
    "x3 = [4, 4]"
   ]
  },
  {
   "cell_type": "code",
   "execution_count": 6,
   "metadata": {},
   "outputs": [
    {
     "name": "stdout",
     "output_type": "stream",
     "text": [
      "(4.0, '[1, 1] - [5, 1]')\n",
      "(4.0, '[1, 1] - [5, 1]')\n",
      "(3.7797631496846193, '[1, 1] - [4, 4]')\n",
      "(3.5676213450081633, '[1, 1] - [4, 4]')\n",
      "(3.446095064991105, '[1, 1] - [4, 4]')\n",
      "(3.3673861449281186, '[1, 1] - [4, 4]')\n",
      "(3.312268541021437, '[1, 1] - [4, 4]')\n",
      "(3.271523197995773, '[1, 1] - [4, 4]')\n",
      "(3.240179216676918, '[1, 1] - [4, 4]')\n"
     ]
    }
   ],
   "source": [
    "for i in range(1, 10):\n",
    "    r = { '[1, 1] - {}'.format(c) : L(x1, c, p=i) for c in [x2, x3]}\n",
    "    print(min(zip(r.values(), r.keys())))"
   ]
  },
  {
   "cell_type": "code",
   "execution_count": null,
   "metadata": {},
   "outputs": [],
   "source": []
  }
 ],
 "metadata": {
  "kernelspec": {
   "display_name": "Python 3",
   "language": "python",
   "name": "python3"
  },
  "language_info": {
   "codemirror_mode": {
    "name": "ipython",
    "version": 3
   },
   "file_extension": ".py",
   "mimetype": "text/x-python",
   "name": "python",
   "nbconvert_exporter": "python",
   "pygments_lexer": "ipython3",
   "version": "3.7.2"
  }
 },
 "nbformat": 4,
 "nbformat_minor": 2
}
